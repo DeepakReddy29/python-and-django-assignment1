{
 "cells": [
  {
   "cell_type": "markdown",
   "id": "c92bf00b",
   "metadata": {},
   "source": [
    "### 1)From this given string: s = \"Hey i am from New Delhi\" Find out: length of string, convert this to list using split operation\n"
   ]
  },
  {
   "cell_type": "code",
   "execution_count": 1,
   "id": "fe3d3ec7",
   "metadata": {},
   "outputs": [
    {
     "name": "stdout",
     "output_type": "stream",
     "text": [
      "23\n",
      "['Hey', 'i', 'am', 'from', 'New', 'Delhi']\n",
      "<class 'list'>\n"
     ]
    }
   ],
   "source": [
    "s=\"Hey i am from New Delhi\"\n",
    "print(len(s))\n",
    "A=s.split()\n",
    "print(A)\n",
    "print(type(A))"
   ]
  },
  {
   "cell_type": "markdown",
   "id": "9adb41ca",
   "metadata": {},
   "source": [
    "### 2)Given string s = \"name is rahul\". Write code to give following o/p.\n",
    "### 1)\"Name is rahul\"  2)\"Rame Is Rahul\"  3) \"NAME IS RAHUL\""
   ]
  },
  {
   "cell_type": "code",
   "execution_count": 13,
   "id": "4b0d37d7",
   "metadata": {},
   "outputs": [
    {
     "name": "stdout",
     "output_type": "stream",
     "text": [
      "Name is rahul\n",
      "Rame Is Rahul\n",
      "NAME IS RAHUL\n"
     ]
    }
   ],
   "source": [
    "\n",
    "s=\"name is rahul\"\n",
    "print(s.replace('n','N'))\n",
    "print(s.replace('n','R').title())\n",
    "print(s.upper())\n"
   ]
  },
  {
   "cell_type": "markdown",
   "id": "41cd6527",
   "metadata": {},
   "source": [
    "### 3. Using length and breadth as input find out area and perimeter of a given rectangle."
   ]
  },
  {
   "cell_type": "code",
   "execution_count": 14,
   "id": "7e3e5e62",
   "metadata": {},
   "outputs": [
    {
     "name": "stdout",
     "output_type": "stream",
     "text": [
      "enter the lenght of the rectangle:5\n",
      "enter the breadth of the rectangle: 3\n",
      "perimeter: 16\n",
      "area: 15\n"
     ]
    }
   ],
   "source": [
    "l = int(input(\"enter the lenght of the rectangle:\"))\n",
    "b = int(input(\"enter the breadth of the rectangle: \"))\n",
    "p=2*(l+b)\n",
    "a=l*b\n",
    "print(\"perimeter:\",p)\n",
    "print(\"area:\",a)"
   ]
  },
  {
   "cell_type": "markdown",
   "id": "e4480bdb",
   "metadata": {},
   "source": [
    "### 4.Using diameter as input find out circumference and area of a circle."
   ]
  },
  {
   "cell_type": "code",
   "execution_count": 16,
   "id": "ac6f22dc",
   "metadata": {},
   "outputs": [
    {
     "name": "stdout",
     "output_type": "stream",
     "text": [
      "enter the diameter: 16\n",
      "circumference of a circle:  50.24\n",
      "area of circle:  200.96\n"
     ]
    }
   ],
   "source": [
    "d=int(input(\"enter the diameter: \"))\n",
    "r=d/2\n",
    "c=2*3.14*r\n",
    "a=3.14*r*r\n",
    "print(\"circumference of a circle: \",c)\n",
    "print(\"area of circle: \",a)"
   ]
  },
  {
   "cell_type": "markdown",
   "id": "2b301a5f",
   "metadata": {},
   "source": [
    "### 5.Write a program to compute roots of a quadratic equation when coefficients a, b and c are known(entered by user)."
   ]
  },
  {
   "cell_type": "code",
   "execution_count": 28,
   "id": "c5b39339",
   "metadata": {},
   "outputs": [
    {
     "name": "stdout",
     "output_type": "stream",
     "text": [
      "enter a: 3\n",
      "enter b: 4\n",
      "enter c: 2\n",
      "(-6+4.242640687119286j)\n",
      "(-6-4.242640687119286j)\n"
     ]
    }
   ],
   "source": [
    "import cmath\n",
    "a=int(input(\"enter a: \"))\n",
    "b=int(input(\"enter b: \"))\n",
    "c=int(input(\"enter c: \"))\n",
    "d=b**2-4*a*c\n",
    "root1=(-b+cmath.sqrt(d))/2*a\n",
    "root2=(-b-cmath.sqrt(d))/2*a\n",
    "print(root1)\n",
    "print(root2)\n"
   ]
  },
  {
   "cell_type": "markdown",
   "id": "19fb57ae",
   "metadata": {},
   "source": [
    "### 6.Find volume of a sphere using radius as input."
   ]
  },
  {
   "cell_type": "code",
   "execution_count": 30,
   "id": "9792bda5",
   "metadata": {},
   "outputs": [
    {
     "name": "stdout",
     "output_type": "stream",
     "text": [
      "enter a radius: 5\n",
      "volume:  523.3333333333334\n"
     ]
    }
   ],
   "source": [
    "r=int(input(\"enter a radius: \"))\n",
    "v=(4/3)*3.14*(r*r*r)\n",
    "print(\"volume: \",v)"
   ]
  },
  {
   "cell_type": "markdown",
   "id": "0f2a7feb",
   "metadata": {},
   "source": [
    "# 7)Count the  number of digits in a number. "
   ]
  },
  {
   "cell_type": "code",
   "execution_count": 51,
   "id": "691fa0de",
   "metadata": {},
   "outputs": [
    {
     "name": "stdout",
     "output_type": "stream",
     "text": [
      "total number of digits n = 4\n"
     ]
    }
   ],
   "source": [
    "n=3454\n",
    "count=0\n",
    "while n>0:\n",
    "    n=n//10\n",
    "    count=count+1\n",
    "print(\"total number of digits n =\",count)"
   ]
  },
  {
   "cell_type": "markdown",
   "id": "fca7e05a",
   "metadata": {},
   "source": [
    "### 8.Write a program that accepts a string and gives output string with all capital letters.\n"
   ]
  },
  {
   "cell_type": "code",
   "execution_count": 31,
   "id": "2c14065a",
   "metadata": {},
   "outputs": [
    {
     "name": "stdout",
     "output_type": "stream",
     "text": [
      "enter a string: python and django\n",
      "PYTHON AND DJANGO\n"
     ]
    }
   ],
   "source": [
    "str=input(\"enter a string: \")\n",
    "print(str.upper())"
   ]
  },
  {
   "cell_type": "markdown",
   "id": "f0d84fb4",
   "metadata": {},
   "source": [
    "### 9.Write a program to that accepts a string s, an index number n and a character ‘c’. And outputs the string replaced with the character at the index number n. Example- ‘hello’ , 0 , ‘j’ ==> ‘jello’.\n",
    "(Hint2: You can try it by join function too by typecasting it to list)\n"
   ]
  },
  {
   "cell_type": "code",
   "execution_count": 40,
   "id": "04cc82a4",
   "metadata": {},
   "outputs": [
    {
     "name": "stdout",
     "output_type": "stream",
     "text": [
      "enter a string: hello\n",
      "enter a index number: 0\n",
      "enter a characterj\n",
      "jello\n"
     ]
    }
   ],
   "source": [
    "s = input(\"enter a string: \")\n",
    "n=int(input(\"enter a index number: \"))\n",
    "c=input(\"enter a character\")\n",
    "str=s[0:n]+c+s[1:]\n",
    "print(str)\n",
    "\n"
   ]
  },
  {
   "cell_type": "markdown",
   "id": "a9278a33",
   "metadata": {},
   "source": [
    "### 10.Reverse a string. Example: 'Hey there' = 'ereht yeH'"
   ]
  },
  {
   "cell_type": "code",
   "execution_count": 55,
   "id": "c0d70bcd",
   "metadata": {},
   "outputs": [
    {
     "data": {
      "text/plain": [
       "'ereht yeH'"
      ]
     },
     "execution_count": 55,
     "metadata": {},
     "output_type": "execute_result"
    }
   ],
   "source": [
    "str=\"Hey there\"\n",
    "(str[::-1])"
   ]
  },
  {
   "cell_type": "code",
   "execution_count": null,
   "id": "34ca9325",
   "metadata": {},
   "outputs": [],
   "source": []
  }
 ],
 "metadata": {
  "kernelspec": {
   "display_name": "Python 3",
   "language": "python",
   "name": "python3"
  },
  "language_info": {
   "codemirror_mode": {
    "name": "ipython",
    "version": 3
   },
   "file_extension": ".py",
   "mimetype": "text/x-python",
   "name": "python",
   "nbconvert_exporter": "python",
   "pygments_lexer": "ipython3",
   "version": "3.9.5"
  }
 },
 "nbformat": 4,
 "nbformat_minor": 5
}
